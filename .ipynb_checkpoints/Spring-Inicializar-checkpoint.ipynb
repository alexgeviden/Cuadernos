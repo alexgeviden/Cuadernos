{
 "cells": [
  {
   "cell_type": "markdown",
   "metadata": {},
   "source": [
    "# Como Inicializar Springboot"
   ]
  },
  {
   "cell_type": "markdown",
   "metadata": {},
   "source": [
    "## Mapear URL En springboot"
   ]
  },
  {
   "cell_type": "markdown",
   "metadata": {},
   "source": [
    "#### Colocamos anotaciones que van con el '@' , con esto le decimos que esto es el controlador y que redireccione a la ruta especificada en RequestMapping"
   ]
  },
  {
   "cell_type": "code",
   "execution_count": null,
   "metadata": {
    "dotnet_interactive": {
     "language": "javascript"
    },
    "polyglot_notebook": {
     "kernelName": "javascript"
    }
   },
   "outputs": [],
   "source": [
    "\n",
    "@Controller\n",
    "@ResponseBody\n",
    "public class EmpleadoControl {\n",
    "\n",
    "@RequestMapping(\"/empleados\")\n",
    "    public List<Empleado> listarEmpleados(){\n",
    "        List<Empleado> listaEmpleados = new ArrayList<>();\n",
    "\n",
    "        // Creamos 5 objetos Empleado y los agregamos a la lista\n",
    "        listaEmpleados.add(new Empleado(1, \"Martin Gonzalez\", \"Ventas\"));\n",
    "        listaEmpleados.add(new Empleado(2, \"Ana Lopez\", \"Marketing\"));\n",
    "        listaEmpleados.add(new Empleado(3, \"Juan Ramirez\", \"Recursos Humanos\"));\n",
    "        listaEmpleados.add(new Empleado(4, \"Maria Sanchez\", \"Contabilidad\"));\n",
    "        listaEmpleados.add(new Empleado(5, \"Carlos Martinez\", \"Tecnología\"));\n",
    "        return listaEmpleados;\n",
    "    }\n",
    "}\n"
   ]
  },
  {
   "cell_type": "markdown",
   "metadata": {},
   "source": [
    "## Añadimos las dependencias\n",
    "\n",
    "\n",
    "\n"
   ]
  },
  {
   "cell_type": "code",
   "execution_count": null,
   "metadata": {
    "dotnet_interactive": {
     "language": "javascript"
    },
    "polyglot_notebook": {
     "kernelName": "javascript"
    }
   },
   "outputs": [],
   "source": [
    "spring.application.name=EmpleadoAplication\n",
    "spring.datasource.url=jdbc:mysql://localhost:3306/springproject\n",
    "spring.datasource.username=root\n",
    "spring.datasource.driver-class-name=com.mysql.cj.jdbc.Driver\n",
    "spring.jpa.properties.hibernate.dialect=org.hibernate.dialect.MySQLDialect"
   ]
  }
 ],
 "metadata": {
  "kernelspec": {
   "display_name": "Python 3",
   "language": "python",
   "name": "python3"
  },
  "language_info": {
   "name": "python",
   "version": "3.9.13"
  },
  "polyglot_notebook": {
   "kernelInfo": {
    "defaultKernelName": "csharp",
    "items": [
     {
      "aliases": [],
      "name": "csharp"
     }
    ]
   }
  }
 },
 "nbformat": 4,
 "nbformat_minor": 2
}
