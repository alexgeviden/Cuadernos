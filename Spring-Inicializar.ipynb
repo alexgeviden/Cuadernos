{
 "cells": [
  {
   "cell_type": "markdown",
   "metadata": {},
   "source": [
    "# Como Inicializar Springboot para realizar un CRUD"
   ]
  },
  {
   "cell_type": "markdown",
   "metadata": {},
   "source": [
    "## Mapear URL En springboot"
   ]
  },
  {
   "cell_type": "markdown",
   "metadata": {},
   "source": [
    "#### Colocamos anotaciones que van con el '@' , con esto le decimos que esto es el controlador y que redireccione a la ruta especificada en RequestMapping"
   ]
  },
  {
   "cell_type": "code",
   "execution_count": null,
   "metadata": {
    "dotnet_interactive": {
     "language": "javascript"
    },
    "polyglot_notebook": {
     "kernelName": "javascript"
    },
    "scrolled": true,
    "vscode": {
     "languageId": "polyglot-notebook"
    }
   },
   "outputs": [],
   "source": [
    "\n",
    "@Controller\n",
    "@ResponseBody\n",
    "public class EmpleadoControl {\n",
    "\n",
    "@RequestMapping(\"/empleados\")\n",
    "    public List<Empleado> listarEmpleados(){\n",
    "        List<Empleado> listaEmpleados = new ArrayList<>();\n",
    "\n",
    "        // Creamos 5 objetos Empleado y los agregamos a la lista\n",
    "        listaEmpleados.add(new Empleado(1, \"Martin Gonzalez\", \"Ventas\"));\n",
    "        listaEmpleados.add(new Empleado(2, \"Ana Lopez\", \"Marketing\"));\n",
    "        listaEmpleados.add(new Empleado(3, \"Juan Ramirez\", \"Recursos Humanos\"));\n",
    "        listaEmpleados.add(new Empleado(4, \"Maria Sanchez\", \"Contabilidad\"));\n",
    "        listaEmpleados.add(new Empleado(5, \"Carlos Martinez\", \"Tecnología\"));\n",
    "        return listaEmpleados;\n",
    "    }\n",
    "}\n"
   ]
  },
  {
   "cell_type": "markdown",
   "metadata": {},
   "source": [
    "## Añadimos las dependencias\n",
    "\n",
    "\n",
    "\n",
    "\n"
   ]
  },
  {
   "cell_type": "code",
   "execution_count": null,
   "metadata": {
    "dotnet_interactive": {
     "language": "javascript"
    },
    "polyglot_notebook": {
     "kernelName": "javascript"
    },
    "vscode": {
     "languageId": "polyglot-notebook"
    }
   },
   "outputs": [],
   "source": [
    "spring.application.name=EmpleadoAplication\n",
    "spring.datasource.url=jdbc:mysql://localhost:3306/springproject\n",
    "spring.datasource.username=root\n",
    "spring.datasource.driver-class-name=com.mysql.cj.jdbc.Driver\n",
    "spring.jpa.properties.hibernate.dialect=org.hibernate.dialect.MySQLDialect"
   ]
  },
  {
   "cell_type": "markdown",
   "metadata": {},
   "source": [
    "### Creamos las clases que despues seran conectadas con la Base de Datos\n",
    "Tienen que tener constructores , getters y setters  para poder correr el proyecto "
   ]
  },
  {
   "cell_type": "code",
   "execution_count": null,
   "metadata": {
    "dotnet_interactive": {
     "language": "csharp"
    },
    "polyglot_notebook": {
     "kernelName": "csharp"
    },
    "vscode": {
     "languageId": "polyglot-notebook"
    }
   },
   "outputs": [],
   "source": [
    "package alexander.EmpleadoAplication.Entidades;\n",
    "\n",
    "public class Empleado {\n",
    "    int idempleado;\n",
    "    String Nombre;\n",
    "    String Depart;\n",
    "\n",
    "    public Empleado(int idempleado, String nombre, String depart) {\n",
    "        this.idempleado = idempleado;\n",
    "        Nombre = nombre;\n",
    "        Depart = depart;\n",
    "    }}"
   ]
  },
  {
   "cell_type": "markdown",
   "metadata": {},
   "source": [
    "## Metodo Get para conectar el servicio con las clases\n",
    "\n"
   ]
  },
  {
   "cell_type": "markdown",
   "metadata": {},
   "source": [
    "En el servicio usamos el comentario @Service para que se conozca como un servicio y se pueda inyectar en las clases que lo necesiten  \n",
    "\n",
    "Ademas esta sera la clase que llame a los objetos que hemos creado. Y la que llamaremos con el controlador para enviar los datos"
   ]
  },
  {
   "cell_type": "code",
   "execution_count": null,
   "metadata": {
    "dotnet_interactive": {
     "language": "csharp"
    },
    "polyglot_notebook": {
     "kernelName": "csharp"
    },
    "vscode": {
     "languageId": "polyglot-notebook"
    }
   },
   "outputs": [],
   "source": [
    "@Service\n",
    "public class ServicioEmpleado {\n",
    "\n",
    "    List<Empleado> listaEmpleados = Arrays.asList(\n",
    "            new Empleado(1, \"Martin Gonzalez\", \"Ventas\"),\n",
    "            new Empleado(2, \"Ana Lopez\", \"Marketing\"),\n",
    "            new Empleado(3, \"Juan Ramirez\", \"Recursos Humanos\"),\n",
    "            new Empleado(4, \"Maria Sanchez\", \"Contabilidad\"),\n",
    "            new Empleado(5, \"Carlos Martinez\", \"Tecnología\")\n",
    "\n",
    "    );\n",
    "\n",
    "public List<Empleado> getAllEmpleados(){\n",
    "            return listaEmpleados;\n",
    "    }\n",
    "\n",
    "    public Empleado getAnEmpleado(int id){\n",
    "    return listaEmpleados.stream().filter(e ->(\n",
    "            e.getIdempleado() == id)).findFirst().get();\n",
    "\n",
    "    }\n",
    "\n",
    "}"
   ]
  },
  {
   "cell_type": "markdown",
   "metadata": {},
   "source": [
    "En el Controlador usamos la anotacion @Controler y el metodo que queremos que se ejecute cuando se acceda a la ruta.  \n",
    "\n",
    "Usamos @RequestingMapping para decirle la ruta que queremos en la URL.  \n",
    "\n",
    "Ponemos @AutoWired para que sepa que la clase que estamos empleando para crear el objeto esta en el servicio.  "
   ]
  },
  {
   "cell_type": "code",
   "execution_count": null,
   "metadata": {
    "dotnet_interactive": {
     "language": "csharp"
    },
    "polyglot_notebook": {
     "kernelName": "csharp"
    },
    "vscode": {
     "languageId": "polyglot-notebook"
    }
   },
   "outputs": [],
   "source": [
    "@Controller\n",
    "@ResponseBody\n",
    "public class EmpleadoControl {\n",
    "\n",
    "    @Autowired\n",
    "    ServicioEmpleado ser;\n",
    "\n",
    "@RequestMapping(\"/empleados\")\n",
    "    public List<Empleado> listarEmpleados(){\n",
    "\n",
    "\n",
    "        return ser.getAllEmpleados();\n",
    "    }\n",
    "    @RequestMapping(\"/empleados/{id}\")\n",
    "    public Empleado findAnEmpleado(@PathVariable int id){\n",
    "    return ser.getAnEmpleado(id);\n",
    "    }\n",
    "}"
   ]
  },
  {
   "cell_type": "markdown",
   "metadata": {},
   "source": [
    "Para declarar la variable que viene entregada desde la url usamos las llaves {} y el nombre de la variable.   \n",
    "\n",
    "Luego en nuestra funcion usamos @PathVariable para recoger la variable que se nos envia por el navegador y la guardamos en una variable.    \n",
    "\n",
    "Para devolver el valor de la variable usamos el metodo .get() y el nombre de la variable."
   ]
  },
  {
   "cell_type": "markdown",
   "metadata": {},
   "source": [
    "## Metodo Post"
   ]
  },
  {
   "cell_type": "markdown",
   "metadata": {},
   "source": [
    "Añadimos esos valores a @RequestMapping ya que po defecto usa el metodo get y hay que especificar que queremos usar otro metodo  \n",
    "  \n",
    "Si lo que buscamos es recoger lo enviado desde nuestro body usamos @Requestbody en la declaracion de variable."
   ]
  },
  {
   "cell_type": "code",
   "execution_count": null,
   "metadata": {
    "dotnet_interactive": {
     "language": "csharp"
    },
    "polyglot_notebook": {
     "kernelName": "csharp"
    },
    "vscode": {
     "languageId": "polyglot-notebook"
    }
   },
   "outputs": [],
   "source": [
    "    @RequestMapping(value = \"/empleados\" , method = RequestMethod.POST)\n",
    "    public void createEmpleado(@RequestBody Empleado emp){\n",
    "    ser.createEmpleado(emp);\n",
    "    }"
   ]
  },
  {
   "cell_type": "markdown",
   "metadata": {},
   "source": [
    "Ese metodo de crear empleado se encuentra en ServicioEmpleado , aligual que la variable 'ser' que se encuentra declarada al inicio del Servicio\n",
    "\n",
    "\n",
    "```\n",
    "    public void createEmpleado(Empleado emp){\n",
    "\n",
    "    listaEmpleados.add(emp);\n",
    "\n",
    "    }\n",
    "```"
   ]
  },
  {
   "cell_type": "markdown",
   "metadata": {},
   "source": [
    "## Redirecciones con anotacion "
   ]
  },
  {
   "cell_type": "markdown",
   "metadata": {},
   "source": [
    "Podemos obvias @RequestMapping usando esta avrebiatura : "
   ]
  },
  {
   "cell_type": "markdown",
   "metadata": {},
   "source": [
    "```\n",
    "@GetMapping\n",
    "\n",
    "@PostMapping\n",
    "\n",
    "@PutMapping\n",
    "\n",
    "@DeleteMapping\n",
    "\n",
    "@PatchMapping\n",
    "```"
   ]
  },
  {
   "cell_type": "markdown",
   "metadata": {},
   "source": [
    "## Creacion de Interfaz para la conexion SQL"
   ]
  },
  {
   "cell_type": "markdown",
   "metadata": {},
   "source": [
    "Creamos un nuevo paquete de repositorios , dentro vamos a crear interfaces para cada clases.  \n",
    "Extenderemos estas clases usando el repositorio JPA para que sea capaz de hacer y ejecutar consultas."
   ]
  },
  {
   "cell_type": "code",
   "execution_count": null,
   "metadata": {
    "dotnet_interactive": {
     "language": "csharp"
    },
    "polyglot_notebook": {
     "kernelName": "csharp"
    },
    "vscode": {
     "languageId": "polyglot-notebook"
    }
   },
   "outputs": [],
   "source": [
    "package alexander.EmpleadoAplication.Repo;\n",
    "\n",
    "import alexander.EmpleadoAplication.Entidades.Empleado;\n",
    "import org.springframework.data.jpa.repository.JpaRepository;\n",
    "import org.springframework.data.jpa.repository.config.JpaRepositoryConfigExtension;\n",
    "\n",
    "public interface EmpleadoRepo extends JpaRepository<Empleado, Integer> {\n",
    "\n",
    "    // Crud para las clases\n",
    "\n",
    "    \n",
    "}\n"
   ]
  },
  {
   "cell_type": "markdown",
   "metadata": {},
   "source": [
    "Ademas hemos de crear un repositorio por cada clase  \n",
    "El cual anotamos como @Entity para que sea reconocible  \n",
    "Usamos @Id para que cree una tabla identificadora y @GeneratedValue para que sea autoincrementable.  \n",
    "Despues creara las tablas necesarias con la informacion que le hemos proporcionado  \n"
   ]
  },
  {
   "cell_type": "code",
   "execution_count": null,
   "metadata": {
    "vscode": {
     "languageId": "polyglot-notebook"
    }
   },
   "outputs": [],
   "source": [
    "import jakarta.persistence.Entity;\n",
    "import jakarta.persistence.GeneratedValue;\n",
    "import jakarta.persistence.GenerationType;\n",
    "import jakarta.persistence.Id;\n",
    "\n",
    "@Entity\n",
    "public class Prueba {\n",
    "    @Id\n",
    "    @GeneratedValue(strategy = GenerationType.IDENTITY)\n",
    "    private Long id;\n",
    "    private String nombre;\n"
   ]
  },
  {
   "cell_type": "markdown",
   "metadata": {},
   "source": [
    "Para la conexion con la base hemos de escribir algo como esto en Aplicationpropperties  \n",
    "Donde marcaos la url de la base de datos y el usuario y contraseña ademas del dialectoq ue usara spring para la comunacion.  \n",
    "En la ultimainstancia entregamos los permisos a springboot para que haga registrso o eliminaciones en la base de datos."
   ]
  },
  {
   "cell_type": "code",
   "execution_count": null,
   "metadata": {
    "vscode": {
     "languageId": "polyglot-notebook"
    }
   },
   "outputs": [],
   "source": [
    "spring.datasource.url=jdbc:sqlite:proyecto.db\n",
    "spring.datasource.driver-class-name=org.sqlite.JDBC\n",
    "spring.jpa.database-platform=org.hibernate.community.dialect.SQLiteDialect\n",
    "spring.jpa.hibernate.ddl-auto=update"
   ]
  }
 ],
 "metadata": {
  "kernelspec": {
   "display_name": "Java",
   "language": "java",
   "name": "java"
  },
  "language_info": {
   "codemirror_mode": "java",
   "file_extension": ".jshell",
   "mimetype": "text/x-java-source",
   "name": "java",
   "pygments_lexer": "java",
   "version": "3.12.2"
  },
  "polyglot_notebook": {
   "kernelInfo": {
    "defaultKernelName": "csharp",
    "items": [
     {
      "aliases": [],
      "name": "csharp"
     }
    ]
   }
  }
 },
 "nbformat": 4,
 "nbformat_minor": 4
}
